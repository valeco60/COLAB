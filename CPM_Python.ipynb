{
  "nbformat": 4,
  "nbformat_minor": 0,
  "metadata": {
    "colab": {
      "provenance": [],
      "include_colab_link": true
    },
    "kernelspec": {
      "name": "python3",
      "display_name": "Python 3"
    },
    "language_info": {
      "name": "python"
    }
  },
  "cells": [
    {
      "cell_type": "markdown",
      "metadata": {
        "id": "view-in-github",
        "colab_type": "text"
      },
      "source": [
        "<a href=\"https://colab.research.google.com/github/valeco60/COLAB/blob/main/CPM_Python.ipynb\" target=\"_parent\"><img src=\"https://colab.research.google.com/assets/colab-badge.svg\" alt=\"Open In Colab\"/></a>"
      ]
    },
    {
      "cell_type": "code",
      "metadata": {
        "colab": {
          "base_uri": "https://localhost:8080/"
        },
        "id": "o0tfXWsQKuKo",
        "outputId": "11ad0e0a-6b22-492d-a4b7-9246b3b5b0cf"
      },
      "source": [
        "#Instalar e importar las librerías necesarias\n",
        "!pip install criticalpath\n",
        "from criticalpath import Node\n",
        "import datetime\n",
        "import pandas as pd\n",
        "import matplotlib.pyplot as plt\n",
        "from matplotlib.patches import Patch\n",
        "import numpy as np"
      ],
      "execution_count": null,
      "outputs": [
        {
          "output_type": "stream",
          "name": "stdout",
          "text": [
            "Looking in indexes: https://pypi.org/simple, https://us-python.pkg.dev/colab-wheels/public/simple/\n",
            "Collecting criticalpath\n",
            "  Downloading criticalpath-0.1.5.tar.gz (10 kB)\n",
            "  Preparing metadata (setup.py) ... \u001b[?25l\u001b[?25hdone\n",
            "Building wheels for collected packages: criticalpath\n",
            "  Building wheel for criticalpath (setup.py) ... \u001b[?25l\u001b[?25hdone\n",
            "  Created wheel for criticalpath: filename=criticalpath-0.1.5-py3-none-any.whl size=12043 sha256=696518a33e14dae87d1cde7a0ec98a800c003ca9b5a6ae54447fecab5262f689\n",
            "  Stored in directory: /root/.cache/pip/wheels/7f/73/52/05bd7123746d122eaac5110494188de592541a30bb782670e5\n",
            "Successfully built criticalpath\n",
            "Installing collected packages: criticalpath\n",
            "Successfully installed criticalpath-0.1.5\n"
          ]
        }
      ]
    },
    {
      "cell_type": "code",
      "metadata": {
        "id": "9vBX3fB9MDHO"
      },
      "source": [
        "#Ingresar los datos del modelo (Tareas y dependencias)\n",
        "p = Node('proyecto')\n",
        "\n",
        "tareas = [(\"A\", {\"duracion\": 3}), \n",
        "          (\"B\", {\"duracion\": 2}), \n",
        "          (\"C\", {\"duracion\": 4}), \n",
        "          (\"D\", {\"duracion\": 3}), \n",
        "          (\"E\", {\"duracion\": 2}), \n",
        "          (\"F\", {\"duracion\": 4}), \n",
        "          (\"G\", {\"duracion\": 2}), \n",
        "          (\"H\", {\"duracion\": 1}), \n",
        "          (\"I\", {\"duracion\": 2}), \n",
        "          (\"J\", {\"duracion\": 4})]\n",
        "\n",
        "dependencias = [(\"A\", \"E\"), \n",
        "                (\"B\", \"E\"), \n",
        "                (\"E\", \"F\"),\n",
        "                (\"F\", \"G\"), \n",
        "                (\"G\", \"I\"), \n",
        "                (\"I\", \"J\"),\n",
        "                (\"C\", \"J\"), \n",
        "                (\"H\", \"I\"), \n",
        "                (\"D\", \"H\")]\n",
        "\n",
        "# Cargar al proyecto las tareas y sus duraciones\n",
        "for i in tareas:\n",
        "    p.add(Node(i[0], duration=i[1][\"duracion\"]))\n",
        "\n",
        "# Cargar al proyecto sus dependencias (secuencias)\n",
        "for j in dependencias:\n",
        "    p.link(j[0],j[1])\n",
        "\n",
        "# Actualizar el proyecto:\n",
        "p.update_all()\n"
      ],
      "execution_count": null,
      "outputs": []
    },
    {
      "cell_type": "code",
      "metadata": {
        "colab": {
          "base_uri": "https://localhost:8080/"
        },
        "id": "gZz-o-ovMKFi",
        "outputId": "98dc5f5f-8f3c-4d8a-9d0e-b8eb616b0083"
      },
      "source": [
        "p.get_critical_path()\n"
      ],
      "execution_count": null,
      "outputs": [
        {
          "output_type": "execute_result",
          "data": {
            "text/plain": [
              "[A, E, F, G, I, J]"
            ]
          },
          "metadata": {},
          "execution_count": 4
        }
      ]
    },
    {
      "cell_type": "code",
      "metadata": {
        "colab": {
          "base_uri": "https://localhost:8080/"
        },
        "id": "tzaTpN96RCAQ",
        "outputId": "dabcee0e-d52b-4c03-8254-dc30dce47b32"
      },
      "source": [
        "p.duration"
      ],
      "execution_count": null,
      "outputs": [
        {
          "output_type": "execute_result",
          "data": {
            "text/plain": [
              "17"
            ]
          },
          "metadata": {},
          "execution_count": 5
        }
      ]
    },
    {
      "cell_type": "code",
      "metadata": {
        "colab": {
          "base_uri": "https://localhost:8080/",
          "height": 363
        },
        "id": "5dl901pAMyDh",
        "outputId": "f09eb19d-c76e-49f7-cf45-0abad3db58ae"
      },
      "source": [
        "ruta_critica = [str(n) for n in p.get_critical_path()]\n",
        "\n",
        "proj_fecha_inicio = datetime.date.today()\n",
        "\n",
        "proj_calendario = pd.DataFrame([dict(Tarea = key, \n",
        "                                   Inicio = datetime.date.today(), \n",
        "                                   Fin = datetime.date.today() + datetime.timedelta(val['duracion']*7), \n",
        "                                   Status = 'Actividad Normal')\n",
        "                              for key, val in dict(tareas).items()])\n",
        "\n",
        "for key, val in dict(tareas).items():\n",
        "    dep = [d for d in dependencias if d[1] == key]\n",
        "    prev_tareas = [t[0] for t in dep]\n",
        "    if prev_tareas:\n",
        "        prev_fin = proj_calendario[proj_calendario.Tarea.isin(prev_tareas)]['Fin'].max()\n",
        "        proj_calendario.loc[proj_calendario.Tarea == key, 'Inicio'] = prev_fin\n",
        "        proj_calendario.loc[proj_calendario.Tarea == key, 'Fin'] = prev_fin + datetime.timedelta(val['duracion']*7)\n",
        "        \n",
        "proj_calendario.loc[proj_calendario.Tarea.isin(ruta_critica), 'Status'] = 'Ruta Crítica'\n",
        "        \n",
        "display(proj_calendario)"
      ],
      "execution_count": null,
      "outputs": [
        {
          "output_type": "display_data",
          "data": {
            "text/plain": [
              "  Tarea      Inicio         Fin            Status\n",
              "0     A  2023-03-02  2023-03-23      Ruta Crítica\n",
              "1     B  2023-03-02  2023-03-16  Actividad Normal\n",
              "2     C  2023-03-02  2023-03-30  Actividad Normal\n",
              "3     D  2023-03-02  2023-03-23  Actividad Normal\n",
              "4     E  2023-03-23  2023-04-06      Ruta Crítica\n",
              "5     F  2023-04-06  2023-05-04      Ruta Crítica\n",
              "6     G  2023-05-04  2023-05-18      Ruta Crítica\n",
              "7     H  2023-03-23  2023-03-30  Actividad Normal\n",
              "8     I  2023-05-18  2023-06-01      Ruta Crítica\n",
              "9     J  2023-06-01  2023-06-29      Ruta Crítica"
            ],
            "text/html": [
              "\n",
              "  <div id=\"df-da26d1d5-2982-4de2-a500-b10decd3c633\">\n",
              "    <div class=\"colab-df-container\">\n",
              "      <div>\n",
              "<style scoped>\n",
              "    .dataframe tbody tr th:only-of-type {\n",
              "        vertical-align: middle;\n",
              "    }\n",
              "\n",
              "    .dataframe tbody tr th {\n",
              "        vertical-align: top;\n",
              "    }\n",
              "\n",
              "    .dataframe thead th {\n",
              "        text-align: right;\n",
              "    }\n",
              "</style>\n",
              "<table border=\"1\" class=\"dataframe\">\n",
              "  <thead>\n",
              "    <tr style=\"text-align: right;\">\n",
              "      <th></th>\n",
              "      <th>Tarea</th>\n",
              "      <th>Inicio</th>\n",
              "      <th>Fin</th>\n",
              "      <th>Status</th>\n",
              "    </tr>\n",
              "  </thead>\n",
              "  <tbody>\n",
              "    <tr>\n",
              "      <th>0</th>\n",
              "      <td>A</td>\n",
              "      <td>2023-03-02</td>\n",
              "      <td>2023-03-23</td>\n",
              "      <td>Ruta Crítica</td>\n",
              "    </tr>\n",
              "    <tr>\n",
              "      <th>1</th>\n",
              "      <td>B</td>\n",
              "      <td>2023-03-02</td>\n",
              "      <td>2023-03-16</td>\n",
              "      <td>Actividad Normal</td>\n",
              "    </tr>\n",
              "    <tr>\n",
              "      <th>2</th>\n",
              "      <td>C</td>\n",
              "      <td>2023-03-02</td>\n",
              "      <td>2023-03-30</td>\n",
              "      <td>Actividad Normal</td>\n",
              "    </tr>\n",
              "    <tr>\n",
              "      <th>3</th>\n",
              "      <td>D</td>\n",
              "      <td>2023-03-02</td>\n",
              "      <td>2023-03-23</td>\n",
              "      <td>Actividad Normal</td>\n",
              "    </tr>\n",
              "    <tr>\n",
              "      <th>4</th>\n",
              "      <td>E</td>\n",
              "      <td>2023-03-23</td>\n",
              "      <td>2023-04-06</td>\n",
              "      <td>Ruta Crítica</td>\n",
              "    </tr>\n",
              "    <tr>\n",
              "      <th>5</th>\n",
              "      <td>F</td>\n",
              "      <td>2023-04-06</td>\n",
              "      <td>2023-05-04</td>\n",
              "      <td>Ruta Crítica</td>\n",
              "    </tr>\n",
              "    <tr>\n",
              "      <th>6</th>\n",
              "      <td>G</td>\n",
              "      <td>2023-05-04</td>\n",
              "      <td>2023-05-18</td>\n",
              "      <td>Ruta Crítica</td>\n",
              "    </tr>\n",
              "    <tr>\n",
              "      <th>7</th>\n",
              "      <td>H</td>\n",
              "      <td>2023-03-23</td>\n",
              "      <td>2023-03-30</td>\n",
              "      <td>Actividad Normal</td>\n",
              "    </tr>\n",
              "    <tr>\n",
              "      <th>8</th>\n",
              "      <td>I</td>\n",
              "      <td>2023-05-18</td>\n",
              "      <td>2023-06-01</td>\n",
              "      <td>Ruta Crítica</td>\n",
              "    </tr>\n",
              "    <tr>\n",
              "      <th>9</th>\n",
              "      <td>J</td>\n",
              "      <td>2023-06-01</td>\n",
              "      <td>2023-06-29</td>\n",
              "      <td>Ruta Crítica</td>\n",
              "    </tr>\n",
              "  </tbody>\n",
              "</table>\n",
              "</div>\n",
              "      <button class=\"colab-df-convert\" onclick=\"convertToInteractive('df-da26d1d5-2982-4de2-a500-b10decd3c633')\"\n",
              "              title=\"Convert this dataframe to an interactive table.\"\n",
              "              style=\"display:none;\">\n",
              "        \n",
              "  <svg xmlns=\"http://www.w3.org/2000/svg\" height=\"24px\"viewBox=\"0 0 24 24\"\n",
              "       width=\"24px\">\n",
              "    <path d=\"M0 0h24v24H0V0z\" fill=\"none\"/>\n",
              "    <path d=\"M18.56 5.44l.94 2.06.94-2.06 2.06-.94-2.06-.94-.94-2.06-.94 2.06-2.06.94zm-11 1L8.5 8.5l.94-2.06 2.06-.94-2.06-.94L8.5 2.5l-.94 2.06-2.06.94zm10 10l.94 2.06.94-2.06 2.06-.94-2.06-.94-.94-2.06-.94 2.06-2.06.94z\"/><path d=\"M17.41 7.96l-1.37-1.37c-.4-.4-.92-.59-1.43-.59-.52 0-1.04.2-1.43.59L10.3 9.45l-7.72 7.72c-.78.78-.78 2.05 0 2.83L4 21.41c.39.39.9.59 1.41.59.51 0 1.02-.2 1.41-.59l7.78-7.78 2.81-2.81c.8-.78.8-2.07 0-2.86zM5.41 20L4 18.59l7.72-7.72 1.47 1.35L5.41 20z\"/>\n",
              "  </svg>\n",
              "      </button>\n",
              "      \n",
              "  <style>\n",
              "    .colab-df-container {\n",
              "      display:flex;\n",
              "      flex-wrap:wrap;\n",
              "      gap: 12px;\n",
              "    }\n",
              "\n",
              "    .colab-df-convert {\n",
              "      background-color: #E8F0FE;\n",
              "      border: none;\n",
              "      border-radius: 50%;\n",
              "      cursor: pointer;\n",
              "      display: none;\n",
              "      fill: #1967D2;\n",
              "      height: 32px;\n",
              "      padding: 0 0 0 0;\n",
              "      width: 32px;\n",
              "    }\n",
              "\n",
              "    .colab-df-convert:hover {\n",
              "      background-color: #E2EBFA;\n",
              "      box-shadow: 0px 1px 2px rgba(60, 64, 67, 0.3), 0px 1px 3px 1px rgba(60, 64, 67, 0.15);\n",
              "      fill: #174EA6;\n",
              "    }\n",
              "\n",
              "    [theme=dark] .colab-df-convert {\n",
              "      background-color: #3B4455;\n",
              "      fill: #D2E3FC;\n",
              "    }\n",
              "\n",
              "    [theme=dark] .colab-df-convert:hover {\n",
              "      background-color: #434B5C;\n",
              "      box-shadow: 0px 1px 3px 1px rgba(0, 0, 0, 0.15);\n",
              "      filter: drop-shadow(0px 1px 2px rgba(0, 0, 0, 0.3));\n",
              "      fill: #FFFFFF;\n",
              "    }\n",
              "  </style>\n",
              "\n",
              "      <script>\n",
              "        const buttonEl =\n",
              "          document.querySelector('#df-da26d1d5-2982-4de2-a500-b10decd3c633 button.colab-df-convert');\n",
              "        buttonEl.style.display =\n",
              "          google.colab.kernel.accessAllowed ? 'block' : 'none';\n",
              "\n",
              "        async function convertToInteractive(key) {\n",
              "          const element = document.querySelector('#df-da26d1d5-2982-4de2-a500-b10decd3c633');\n",
              "          const dataTable =\n",
              "            await google.colab.kernel.invokeFunction('convertToInteractive',\n",
              "                                                     [key], {});\n",
              "          if (!dataTable) return;\n",
              "\n",
              "          const docLinkHtml = 'Like what you see? Visit the ' +\n",
              "            '<a target=\"_blank\" href=https://colab.research.google.com/notebooks/data_table.ipynb>data table notebook</a>'\n",
              "            + ' to learn more about interactive tables.';\n",
              "          element.innerHTML = '';\n",
              "          dataTable['output_type'] = 'display_data';\n",
              "          await google.colab.output.renderOutput(dataTable, element);\n",
              "          const docLink = document.createElement('div');\n",
              "          docLink.innerHTML = docLinkHtml;\n",
              "          element.appendChild(docLink);\n",
              "        }\n",
              "      </script>\n",
              "    </div>\n",
              "  </div>\n",
              "  "
            ]
          },
          "metadata": {}
        }
      ]
    },
    {
      "cell_type": "code",
      "metadata": {
        "id": "qLXUk3ViTNFp"
      },
      "source": [
        "# Número de días desde que el proyecto inicia hasta que la tarea inicia\n",
        "proj_calendario['dias_inicio'] = (proj_calendario.Inicio-proj_fecha_inicio).dt.days\n",
        "# Número de días desde que el proyecto inicia hasta que la tarea finaliza\n",
        "proj_calendario['dias_fin'] = (proj_calendario.Fin-proj_fecha_inicio).dt.days\n",
        "# Dísa entre el inicio y el fin de cada tarea\n",
        "proj_calendario['dias_inicio_fin'] = proj_calendario.dias_fin - proj_calendario.dias_inicio"
      ],
      "execution_count": null,
      "outputs": []
    },
    {
      "cell_type": "code",
      "metadata": {
        "colab": {
          "base_uri": "https://localhost:8080/",
          "height": 363
        },
        "id": "VHOH63HYfvLn",
        "outputId": "24f1fba9-888c-43a8-f835-7e0c3817d68d"
      },
      "source": [
        "display(proj_calendario)"
      ],
      "execution_count": null,
      "outputs": [
        {
          "output_type": "display_data",
          "data": {
            "text/plain": [
              "  Tarea      Inicio         Fin            Status  dias_inicio  dias_fin  \\\n",
              "0     A  2023-03-02  2023-03-23      Ruta Crítica            0        21   \n",
              "1     B  2023-03-02  2023-03-16  Actividad Normal            0        14   \n",
              "2     C  2023-03-02  2023-03-30  Actividad Normal            0        28   \n",
              "3     D  2023-03-02  2023-03-23  Actividad Normal            0        21   \n",
              "4     E  2023-03-23  2023-04-06      Ruta Crítica           21        35   \n",
              "5     F  2023-04-06  2023-05-04      Ruta Crítica           35        63   \n",
              "6     G  2023-05-04  2023-05-18      Ruta Crítica           63        77   \n",
              "7     H  2023-03-23  2023-03-30  Actividad Normal           21        28   \n",
              "8     I  2023-05-18  2023-06-01      Ruta Crítica           77        91   \n",
              "9     J  2023-06-01  2023-06-29      Ruta Crítica           91       119   \n",
              "\n",
              "   dias_inicio_fin  \n",
              "0               21  \n",
              "1               14  \n",
              "2               28  \n",
              "3               21  \n",
              "4               14  \n",
              "5               28  \n",
              "6               14  \n",
              "7                7  \n",
              "8               14  \n",
              "9               28  "
            ],
            "text/html": [
              "\n",
              "  <div id=\"df-0167487d-a56e-4568-9f29-a140d976ffda\">\n",
              "    <div class=\"colab-df-container\">\n",
              "      <div>\n",
              "<style scoped>\n",
              "    .dataframe tbody tr th:only-of-type {\n",
              "        vertical-align: middle;\n",
              "    }\n",
              "\n",
              "    .dataframe tbody tr th {\n",
              "        vertical-align: top;\n",
              "    }\n",
              "\n",
              "    .dataframe thead th {\n",
              "        text-align: right;\n",
              "    }\n",
              "</style>\n",
              "<table border=\"1\" class=\"dataframe\">\n",
              "  <thead>\n",
              "    <tr style=\"text-align: right;\">\n",
              "      <th></th>\n",
              "      <th>Tarea</th>\n",
              "      <th>Inicio</th>\n",
              "      <th>Fin</th>\n",
              "      <th>Status</th>\n",
              "      <th>dias_inicio</th>\n",
              "      <th>dias_fin</th>\n",
              "      <th>dias_inicio_fin</th>\n",
              "    </tr>\n",
              "  </thead>\n",
              "  <tbody>\n",
              "    <tr>\n",
              "      <th>0</th>\n",
              "      <td>A</td>\n",
              "      <td>2023-03-02</td>\n",
              "      <td>2023-03-23</td>\n",
              "      <td>Ruta Crítica</td>\n",
              "      <td>0</td>\n",
              "      <td>21</td>\n",
              "      <td>21</td>\n",
              "    </tr>\n",
              "    <tr>\n",
              "      <th>1</th>\n",
              "      <td>B</td>\n",
              "      <td>2023-03-02</td>\n",
              "      <td>2023-03-16</td>\n",
              "      <td>Actividad Normal</td>\n",
              "      <td>0</td>\n",
              "      <td>14</td>\n",
              "      <td>14</td>\n",
              "    </tr>\n",
              "    <tr>\n",
              "      <th>2</th>\n",
              "      <td>C</td>\n",
              "      <td>2023-03-02</td>\n",
              "      <td>2023-03-30</td>\n",
              "      <td>Actividad Normal</td>\n",
              "      <td>0</td>\n",
              "      <td>28</td>\n",
              "      <td>28</td>\n",
              "    </tr>\n",
              "    <tr>\n",
              "      <th>3</th>\n",
              "      <td>D</td>\n",
              "      <td>2023-03-02</td>\n",
              "      <td>2023-03-23</td>\n",
              "      <td>Actividad Normal</td>\n",
              "      <td>0</td>\n",
              "      <td>21</td>\n",
              "      <td>21</td>\n",
              "    </tr>\n",
              "    <tr>\n",
              "      <th>4</th>\n",
              "      <td>E</td>\n",
              "      <td>2023-03-23</td>\n",
              "      <td>2023-04-06</td>\n",
              "      <td>Ruta Crítica</td>\n",
              "      <td>21</td>\n",
              "      <td>35</td>\n",
              "      <td>14</td>\n",
              "    </tr>\n",
              "    <tr>\n",
              "      <th>5</th>\n",
              "      <td>F</td>\n",
              "      <td>2023-04-06</td>\n",
              "      <td>2023-05-04</td>\n",
              "      <td>Ruta Crítica</td>\n",
              "      <td>35</td>\n",
              "      <td>63</td>\n",
              "      <td>28</td>\n",
              "    </tr>\n",
              "    <tr>\n",
              "      <th>6</th>\n",
              "      <td>G</td>\n",
              "      <td>2023-05-04</td>\n",
              "      <td>2023-05-18</td>\n",
              "      <td>Ruta Crítica</td>\n",
              "      <td>63</td>\n",
              "      <td>77</td>\n",
              "      <td>14</td>\n",
              "    </tr>\n",
              "    <tr>\n",
              "      <th>7</th>\n",
              "      <td>H</td>\n",
              "      <td>2023-03-23</td>\n",
              "      <td>2023-03-30</td>\n",
              "      <td>Actividad Normal</td>\n",
              "      <td>21</td>\n",
              "      <td>28</td>\n",
              "      <td>7</td>\n",
              "    </tr>\n",
              "    <tr>\n",
              "      <th>8</th>\n",
              "      <td>I</td>\n",
              "      <td>2023-05-18</td>\n",
              "      <td>2023-06-01</td>\n",
              "      <td>Ruta Crítica</td>\n",
              "      <td>77</td>\n",
              "      <td>91</td>\n",
              "      <td>14</td>\n",
              "    </tr>\n",
              "    <tr>\n",
              "      <th>9</th>\n",
              "      <td>J</td>\n",
              "      <td>2023-06-01</td>\n",
              "      <td>2023-06-29</td>\n",
              "      <td>Ruta Crítica</td>\n",
              "      <td>91</td>\n",
              "      <td>119</td>\n",
              "      <td>28</td>\n",
              "    </tr>\n",
              "  </tbody>\n",
              "</table>\n",
              "</div>\n",
              "      <button class=\"colab-df-convert\" onclick=\"convertToInteractive('df-0167487d-a56e-4568-9f29-a140d976ffda')\"\n",
              "              title=\"Convert this dataframe to an interactive table.\"\n",
              "              style=\"display:none;\">\n",
              "        \n",
              "  <svg xmlns=\"http://www.w3.org/2000/svg\" height=\"24px\"viewBox=\"0 0 24 24\"\n",
              "       width=\"24px\">\n",
              "    <path d=\"M0 0h24v24H0V0z\" fill=\"none\"/>\n",
              "    <path d=\"M18.56 5.44l.94 2.06.94-2.06 2.06-.94-2.06-.94-.94-2.06-.94 2.06-2.06.94zm-11 1L8.5 8.5l.94-2.06 2.06-.94-2.06-.94L8.5 2.5l-.94 2.06-2.06.94zm10 10l.94 2.06.94-2.06 2.06-.94-2.06-.94-.94-2.06-.94 2.06-2.06.94z\"/><path d=\"M17.41 7.96l-1.37-1.37c-.4-.4-.92-.59-1.43-.59-.52 0-1.04.2-1.43.59L10.3 9.45l-7.72 7.72c-.78.78-.78 2.05 0 2.83L4 21.41c.39.39.9.59 1.41.59.51 0 1.02-.2 1.41-.59l7.78-7.78 2.81-2.81c.8-.78.8-2.07 0-2.86zM5.41 20L4 18.59l7.72-7.72 1.47 1.35L5.41 20z\"/>\n",
              "  </svg>\n",
              "      </button>\n",
              "      \n",
              "  <style>\n",
              "    .colab-df-container {\n",
              "      display:flex;\n",
              "      flex-wrap:wrap;\n",
              "      gap: 12px;\n",
              "    }\n",
              "\n",
              "    .colab-df-convert {\n",
              "      background-color: #E8F0FE;\n",
              "      border: none;\n",
              "      border-radius: 50%;\n",
              "      cursor: pointer;\n",
              "      display: none;\n",
              "      fill: #1967D2;\n",
              "      height: 32px;\n",
              "      padding: 0 0 0 0;\n",
              "      width: 32px;\n",
              "    }\n",
              "\n",
              "    .colab-df-convert:hover {\n",
              "      background-color: #E2EBFA;\n",
              "      box-shadow: 0px 1px 2px rgba(60, 64, 67, 0.3), 0px 1px 3px 1px rgba(60, 64, 67, 0.15);\n",
              "      fill: #174EA6;\n",
              "    }\n",
              "\n",
              "    [theme=dark] .colab-df-convert {\n",
              "      background-color: #3B4455;\n",
              "      fill: #D2E3FC;\n",
              "    }\n",
              "\n",
              "    [theme=dark] .colab-df-convert:hover {\n",
              "      background-color: #434B5C;\n",
              "      box-shadow: 0px 1px 3px 1px rgba(0, 0, 0, 0.15);\n",
              "      filter: drop-shadow(0px 1px 2px rgba(0, 0, 0, 0.3));\n",
              "      fill: #FFFFFF;\n",
              "    }\n",
              "  </style>\n",
              "\n",
              "      <script>\n",
              "        const buttonEl =\n",
              "          document.querySelector('#df-0167487d-a56e-4568-9f29-a140d976ffda button.colab-df-convert');\n",
              "        buttonEl.style.display =\n",
              "          google.colab.kernel.accessAllowed ? 'block' : 'none';\n",
              "\n",
              "        async function convertToInteractive(key) {\n",
              "          const element = document.querySelector('#df-0167487d-a56e-4568-9f29-a140d976ffda');\n",
              "          const dataTable =\n",
              "            await google.colab.kernel.invokeFunction('convertToInteractive',\n",
              "                                                     [key], {});\n",
              "          if (!dataTable) return;\n",
              "\n",
              "          const docLinkHtml = 'Like what you see? Visit the ' +\n",
              "            '<a target=\"_blank\" href=https://colab.research.google.com/notebooks/data_table.ipynb>data table notebook</a>'\n",
              "            + ' to learn more about interactive tables.';\n",
              "          element.innerHTML = '';\n",
              "          dataTable['output_type'] = 'display_data';\n",
              "          await google.colab.output.renderOutput(dataTable, element);\n",
              "          const docLink = document.createElement('div');\n",
              "          docLink.innerHTML = docLinkHtml;\n",
              "          element.appendChild(docLink);\n",
              "        }\n",
              "      </script>\n",
              "    </div>\n",
              "  </div>\n",
              "  "
            ]
          },
          "metadata": {}
        }
      ]
    },
    {
      "cell_type": "code",
      "metadata": {
        "colab": {
          "base_uri": "https://localhost:8080/",
          "height": 374
        },
        "id": "kAvRHj1DR1nv",
        "outputId": "a3e68c8a-5339-4c46-ef64-0d8be039d794"
      },
      "source": [
        "fig, ax = plt.subplots(1, figsize=(16,6))\n",
        "ax.barh(proj_calendario.Tarea, proj_calendario.dias_inicio_fin, left=proj_calendario.dias_inicio)\n",
        "plt.show()"
      ],
      "execution_count": null,
      "outputs": [
        {
          "output_type": "display_data",
          "data": {
            "text/plain": [
              "<Figure size 1152x432 with 1 Axes>"
            ],
            "image/png": "[encoded data removed]"
          },
          "metadata": {
            "needs_background": "light"
          }
        }
      ]
    },
    {
      "cell_type": "code",
      "metadata": {
        "id": "UqJSs8suhszv",
        "colab": {
          "base_uri": "https://localhost:8080/",
          "height": 374
        },
        "outputId": "49e7664b-e023-4d96-a8ba-05613ff1d939"
      },
      "source": [
        "# Dar color rojo a las columnas de actividades críticas\n",
        "def color(row):\n",
        "    c_dict = {'Ruta Crítica':'#E64646', 'Actividad Normal':'#4F81BE'}\n",
        "    return c_dict[row['Status']]\n",
        "proj_calendario['color'] = proj_calendario.apply(color, axis=1)\n",
        "fig, ax = plt.subplots(1, figsize=(16,6))\n",
        "ax.barh(proj_calendario.Tarea, proj_calendario.dias_inicio_fin, left=proj_calendario.dias_inicio, color=proj_calendario.color)\n",
        "\n",
        "#Anexar leyendas\n",
        "c_dict = {'Ruta crítica':'#E64646', 'Actividad normal':'#4F81BE'}\n",
        "leyenda = [Patch(facecolor=c_dict[i], label=i)  for i in c_dict]\n",
        "plt.legend(handles=leyenda)\n",
        "\n",
        "plt.show()"
      ],
      "execution_count": null,
      "outputs": [
        {
          "output_type": "display_data",
          "data": {
            "text/plain": [
              "<Figure size 1152x432 with 1 Axes>"
            ],
            "image/png": "[encoded data removed]"
          },
          "metadata": {
            "needs_background": "light"
          }
        }
      ]
    }
  ]
}